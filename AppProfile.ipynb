{
 "cells": [
  {
   "cell_type": "markdown",
   "id": "4d87ce86",
   "metadata": {},
   "source": [
    "## Finding the best app profile for App Store and Google Playstore\n",
    "   In this project, we aim to arrive at an app profile that can draw in a large number of users. The more the users, the more is our revenue from in-app ads. There are millions of apps in both the Apple Store and Google Playstore. So we take a sample dataset from each market and build our analysis on them. These are the links for [App Store](https://www.kaggle.com/lava18/google-play-store-apps) and [Google Playstore](https://www.kaggle.com/ramamet4/app-store-apple-data-set-10k-apps) datasets and their descriptions."
   ]
  },
  {
   "cell_type": "markdown",
   "id": "f79dc038",
   "metadata": {},
   "source": [
    "**Opening the datasets**"
   ]
  },
  {
   "cell_type": "code",
   "execution_count": 92,
   "id": "ee1ec28e",
   "metadata": {},
   "outputs": [],
   "source": [
    "from csv import reader\n",
    "\n",
    "opened_file = open('googleplaystore.csv', encoding = 'utf8')\n",
    "read_file = reader(opened_file)\n",
    "android = list(read_file)\n",
    "android_header = android[0]\n",
    "android = android[1:]\n",
    "\n",
    "opened_file = open('AppleStore.csv', encoding = 'utf8')\n",
    "read_file = reader(opened_file)\n",
    "ios = list(read_file)\n",
    "ios_header = ios[0]\n",
    "ios = ios[1:]"
   ]
  },
  {
   "cell_type": "markdown",
   "id": "dc77a968",
   "metadata": {},
   "source": [
    "**Creating a function to explore the datasets easily** (with an option to view the number of rows and columns)"
   ]
  },
  {
   "cell_type": "code",
   "execution_count": 93,
   "id": "30989d5a",
   "metadata": {},
   "outputs": [],
   "source": [
    "def explore_data(dataset, start, end, rows_and_columns=False):\n",
    "    dataset_slice = dataset[start:end]    \n",
    "    for row in dataset_slice:\n",
    "        print(row)\n",
    "        print('\\n')\n",
    "        \n",
    "    if rows_and_columns:\n",
    "        print('Number of rows:', len(dataset))\n",
    "        print('Number of columns:', len(dataset[0]))"
   ]
  },
  {
   "cell_type": "markdown",
   "id": "18e488c2",
   "metadata": {},
   "source": [
    "Exploring android and ios datasets using the explore_data function"
   ]
  },
  {
   "cell_type": "code",
   "execution_count": 94,
   "id": "b6721f7a",
   "metadata": {},
   "outputs": [
    {
     "name": "stdout",
     "output_type": "stream",
     "text": [
      "['App', 'Category', 'Rating', 'Reviews', 'Size', 'Installs', 'Type', 'Price', 'Content Rating', 'Genres', 'Last Updated', 'Current Ver', 'Android Ver']\n",
      "\n",
      "\n",
      "['Photo Editor & Candy Camera & Grid & ScrapBook', 'ART_AND_DESIGN', '4.1', '159', '19M', '10,000+', 'Free', '0', 'Everyone', 'Art & Design', 'January 7, 2018', '1.0.0', '4.0.3 and up']\n",
      "\n",
      "\n",
      "['Coloring book moana', 'ART_AND_DESIGN', '3.9', '967', '14M', '500,000+', 'Free', '0', 'Everyone', 'Art & Design;Pretend Play', 'January 15, 2018', '2.0.0', '4.0.3 and up']\n",
      "\n",
      "\n",
      "['U Launcher Lite – FREE Live Cool Themes, Hide Apps', 'ART_AND_DESIGN', '4.7', '87510', '8.7M', '5,000,000+', 'Free', '0', 'Everyone', 'Art & Design', 'August 1, 2018', '1.2.4', '4.0.3 and up']\n",
      "\n",
      "\n",
      "Number of rows: 10841\n",
      "Number of columns: 13\n",
      "\n",
      "\n",
      "['id', 'track_name', 'size_bytes', 'currency', 'price', 'rating_count_tot', 'rating_count_ver', 'user_rating', 'user_rating_ver', 'ver', 'cont_rating', 'prime_genre', 'sup_devices.num', 'ipadSc_urls.num', 'lang.num', 'vpp_lic']\n",
      "\n",
      "\n",
      "['284882215', 'Facebook', '389879808', 'USD', '0.0', '2974676', '212', '3.5', '3.5', '95.0', '4+', 'Social Networking', '37', '1', '29', '1']\n",
      "\n",
      "\n",
      "['389801252', 'Instagram', '113954816', 'USD', '0.0', '2161558', '1289', '4.5', '4.0', '10.23', '12+', 'Photo & Video', '37', '0', '29', '1']\n",
      "\n",
      "\n",
      "['529479190', 'Clash of Clans', '116476928', 'USD', '0.0', '2130805', '579', '4.5', '4.5', '9.24.12', '9+', 'Games', '38', '5', '18', '1']\n",
      "\n",
      "\n",
      "Number of rows: 7197\n",
      "Number of columns: 16\n"
     ]
    }
   ],
   "source": [
    "print(android_header)\n",
    "print('\\n')\n",
    "explore_data(android, 0, 3, True)\n",
    "\n",
    "print('\\n')\n",
    "\n",
    "print(ios_header)\n",
    "print('\\n')\n",
    "explore_data(ios, 0, 3, True)"
   ]
  },
  {
   "cell_type": "markdown",
   "id": "9ff47b3d",
   "metadata": {},
   "source": [
    "**Deleting wrong data** <br>\n",
    "In the dataset's [discussion section]('https://www.kaggle.com/lava18/google-play-store-apps/discussion/66015'), an error for the row 10472 is mentioned. Let's compare it against the header and another row to cross check."
   ]
  },
  {
   "cell_type": "code",
   "execution_count": 95,
   "id": "5fac5fd4",
   "metadata": {},
   "outputs": [
    {
     "name": "stdout",
     "output_type": "stream",
     "text": [
      "['Life Made WI-Fi Touchscreen Photo Frame', '1.9', '19', '3.0M', '1,000+', 'Free', '0', 'Everyone', '', 'February 11, 2018', '1.0.19', '4.0 and up']\n",
      "\n",
      "\n",
      "['App', 'Category', 'Rating', 'Reviews', 'Size', 'Installs', 'Type', 'Price', 'Content Rating', 'Genres', 'Last Updated', 'Current Ver', 'Android Ver']\n",
      "\n",
      "\n",
      "['Coloring book moana', 'ART_AND_DESIGN', '3.9', '967', '14M', '500,000+', 'Free', '0', 'Everyone', 'Art & Design;Pretend Play', 'January 15, 2018', '2.0.0', '4.0.3 and up']\n"
     ]
    }
   ],
   "source": [
    "print(android[10472]) #incorrect row\n",
    "print('\\n')\n",
    "print(android_header) #header\n",
    "print('\\n')\n",
    "print(android[1]) #correct row"
   ]
  },
  {
   "cell_type": "markdown",
   "id": "4ab175bc",
   "metadata": {},
   "source": [
    "In the row 10472, we can see that the app named 'Life Made WI-Fi Touchscreen Photo Frame' has a rating of 19. But we know that in Google Playstore the maximum rating is only 5. This problem is caused by a missing value in the **'Category'** column. As a result, we will delete this row."
   ]
  },
  {
   "cell_type": "code",
   "execution_count": 96,
   "id": "695bcdfb",
   "metadata": {
    "scrolled": true
   },
   "outputs": [
    {
     "name": "stdout",
     "output_type": "stream",
     "text": [
      "10841\n",
      "10840\n"
     ]
    }
   ],
   "source": [
    "print(len(android))\n",
    "del android[10472] #not to be run more than once\n",
    "print(len(android))"
   ]
  },
  {
   "cell_type": "markdown",
   "id": "bdf7e418",
   "metadata": {},
   "source": [
    "### Removing duplicate entries\n",
    "Looking through the Google Playstore dataset, we can see multiple entries for the same app recorded over the years like Instagram below:"
   ]
  },
  {
   "cell_type": "code",
   "execution_count": 97,
   "id": "58e41715",
   "metadata": {},
   "outputs": [
    {
     "name": "stdout",
     "output_type": "stream",
     "text": [
      "['App', 'Category', 'Rating', 'Reviews', 'Size', 'Installs', 'Type', 'Price', 'Content Rating', 'Genres', 'Last Updated', 'Current Ver', 'Android Ver']\n",
      "\n",
      "\n",
      "['Instagram', 'SOCIAL', '4.5', '66577313', 'Varies with device', '1,000,000,000+', 'Free', '0', 'Teen', 'Social', 'July 31, 2018', 'Varies with device', 'Varies with device']\n",
      "['Instagram', 'SOCIAL', '4.5', '66577446', 'Varies with device', '1,000,000,000+', 'Free', '0', 'Teen', 'Social', 'July 31, 2018', 'Varies with device', 'Varies with device']\n",
      "['Instagram', 'SOCIAL', '4.5', '66577313', 'Varies with device', '1,000,000,000+', 'Free', '0', 'Teen', 'Social', 'July 31, 2018', 'Varies with device', 'Varies with device']\n",
      "['Instagram', 'SOCIAL', '4.5', '66509917', 'Varies with device', '1,000,000,000+', 'Free', '0', 'Teen', 'Social', 'July 31, 2018', 'Varies with device', 'Varies with device']\n"
     ]
    }
   ],
   "source": [
    "print(android_header)\n",
    "print('\\n')\n",
    "for app in android:\n",
    "    name = app[0]\n",
    "    if name == 'Instagram':\n",
    "        print(app)"
   ]
  },
  {
   "cell_type": "markdown",
   "id": "2e41179a",
   "metadata": {},
   "source": [
    "As we can see, the duplicate entries only differ in the number of reviews for each entry.\n",
    "<br>\n",
    "Let us count how many such occurances are there:"
   ]
  },
  {
   "cell_type": "code",
   "execution_count": 98,
   "id": "c51fe3d4",
   "metadata": {},
   "outputs": [
    {
     "name": "stdout",
     "output_type": "stream",
     "text": [
      "Number of duplicate apps: 1181\n",
      "Number of unique apps: 9659\n",
      "\n",
      "\n",
      "Examples of duplicate apps: ['Quick PDF Scanner + OCR FREE', 'Box', 'Google My Business', 'ZOOM Cloud Meetings', 'join.me - Simple Meetings']\n"
     ]
    }
   ],
   "source": [
    "duplicate_apps = []\n",
    "unique_apps = []\n",
    "\n",
    "for app in android:\n",
    "    name = app[0]\n",
    "    if name in unique_apps:\n",
    "        duplicate_apps.append(name)\n",
    "    else:\n",
    "        unique_apps.append(name)\n",
    "        \n",
    "print('Number of duplicate apps:', len(duplicate_apps))\n",
    "print('Number of unique apps:', len(unique_apps))\n",
    "print('\\n')\n",
    "print('Examples of duplicate apps:', duplicate_apps[:5])"
   ]
  },
  {
   "cell_type": "markdown",
   "id": "f3ab4bda",
   "metadata": {},
   "source": [
    "To remove the duplicate apps without affecting the quality of our analysis, we keep the apps with the maximum **'Reviews'** as they have the to be the most recent entry. _For example_, the second entry among the duplicate entries for the Instagram app has the highest review count. So we are keeping that entry for Instagram for further analysis.\n",
    "<br>\n",
    "\n",
    "**Separating apps with maximum reviews**"
   ]
  },
  {
   "cell_type": "code",
   "execution_count": 99,
   "id": "4d5df6ea",
   "metadata": {},
   "outputs": [
    {
     "name": "stdout",
     "output_type": "stream",
     "text": [
      "Expected length: 9659\n",
      "Actual length: 9659\n"
     ]
    }
   ],
   "source": [
    "reviews_max = {}\n",
    "\n",
    "for app in android:\n",
    "    name = app[0]\n",
    "    reviews = app[3]\n",
    "    if name not in reviews_max:\n",
    "        reviews_max[name] = reviews\n",
    "    else:\n",
    "        if reviews_max[name] < reviews:\n",
    "            reviews_max[name] = reviews\n",
    "\n",
    "print('Expected length:', len(android) - 1181)\n",
    "print('Actual length:', len(reviews_max))"
   ]
  },
  {
   "cell_type": "code",
   "execution_count": 100,
   "id": "e1f3d518",
   "metadata": {},
   "outputs": [
    {
     "name": "stdout",
     "output_type": "stream",
     "text": [
      "['Photo Editor & Candy Camera & Grid & ScrapBook', 'ART_AND_DESIGN', '4.1', '159', '19M', '10,000+', 'Free', '0', 'Everyone', 'Art & Design', 'January 7, 2018', '1.0.0', '4.0.3 and up']\n",
      "\n",
      "\n",
      "['U Launcher Lite – FREE Live Cool Themes, Hide Apps', 'ART_AND_DESIGN', '4.7', '87510', '8.7M', '5,000,000+', 'Free', '0', 'Everyone', 'Art & Design', 'August 1, 2018', '1.2.4', '4.0.3 and up']\n",
      "\n",
      "\n",
      "['Sketch - Draw & Paint', 'ART_AND_DESIGN', '4.5', '215644', '25M', '50,000,000+', 'Free', '0', 'Teen', 'Art & Design', 'June 8, 2018', 'Varies with device', '4.2 and up']\n",
      "\n",
      "\n",
      "Number of rows: 9659\n",
      "Number of columns: 13\n",
      "Expected number of apps in the cleaned dataset: 9659\n"
     ]
    }
   ],
   "source": [
    "android_clean = []\n",
    "already_added = []\n",
    "\n",
    "for app in android:\n",
    "    name = app[0]\n",
    "    reviews = app[3]\n",
    "    if (reviews_max[name] == reviews) and (name not in already_added):\n",
    "        android_clean.append(app)\n",
    "        already_added.append(name)\n",
    "\n",
    "explore_data(android_clean, 0, 3, True) \n",
    "print('Expected number of apps in the cleaned dataset:', len(android) - 1181)"
   ]
  },
  {
   "cell_type": "markdown",
   "id": "ccfa08be",
   "metadata": {},
   "source": [
    "As we can see, the number of rows matches our expected length from before."
   ]
  },
  {
   "cell_type": "markdown",
   "id": "060a8347",
   "metadata": {},
   "source": [
    "### Removing Non-English Apps"
   ]
  },
  {
   "cell_type": "markdown",
   "id": "a107177f",
   "metadata": {},
   "source": [
    "We are only interested in apps that are directed towards an English audience. _For example_, we are not interested in apps like the following:"
   ]
  },
  {
   "cell_type": "code",
   "execution_count": 101,
   "id": "c9069814",
   "metadata": {},
   "outputs": [
    {
     "name": "stdout",
     "output_type": "stream",
     "text": [
      "爱奇艺PPS -《欢乐颂2》电视剧热播\n",
      "Wowkwis aq Ka'qaquj\n"
     ]
    }
   ],
   "source": [
    "print(ios[813][1])\n",
    "\n",
    "print(android_clean[4412][0])"
   ]
  },
  {
   "cell_type": "markdown",
   "id": "2f38b3c8",
   "metadata": {},
   "source": [
    "English text usually includes letters from the English alphabet, numbers, punctuation marks and  symbols like +, -, etc. These characters are specific to English texts and are encoded using the ASCII standard which can help with our analysis."
   ]
  },
  {
   "cell_type": "markdown",
   "id": "de3fcf24",
   "metadata": {},
   "source": [
    "**Checking if app names are in English using ASCII**"
   ]
  },
  {
   "cell_type": "code",
   "execution_count": 102,
   "id": "2aab5f85",
   "metadata": {},
   "outputs": [
    {
     "name": "stdout",
     "output_type": "stream",
     "text": [
      "True\n",
      "False\n"
     ]
    }
   ],
   "source": [
    "def is_it_english(string):\n",
    "    for character in string:\n",
    "        if ord(character ) > 127:\n",
    "            return False\n",
    "    return True\n",
    "\n",
    "print(is_it_english('Sketch - Draw & Paint'))\n",
    "print(is_it_english('爱奇艺PPS -《欢乐颂2》电视剧热播'))"
   ]
  },
  {
   "cell_type": "markdown",
   "id": "37f5ee96",
   "metadata": {},
   "source": [
    "Some English app names use emojis or other symbols like ™ which fall outside of the ASCII range. So we shouldn't produce with this function. _Examples of english apps that don't pass our current function:_"
   ]
  },
  {
   "cell_type": "code",
   "execution_count": 103,
   "id": "efa9853f",
   "metadata": {},
   "outputs": [
    {
     "name": "stdout",
     "output_type": "stream",
     "text": [
      "False\n",
      "False\n"
     ]
    }
   ],
   "source": [
    "print(is_it_english('Docs To Go™ Free Office Suite'))\n",
    "print(is_it_english('Instachat 😜'))"
   ]
  },
  {
   "cell_type": "markdown",
   "id": "3245acd8",
   "metadata": {},
   "source": [
    "To minimize the impact of data loss, we'll only remove an app if its name has more than three non-ASCII characters:"
   ]
  },
  {
   "cell_type": "code",
   "execution_count": 104,
   "id": "fad49a82",
   "metadata": {},
   "outputs": [
    {
     "name": "stdout",
     "output_type": "stream",
     "text": [
      "True\n",
      "True\n"
     ]
    }
   ],
   "source": [
    "def is_english(string):\n",
    "    not_ascii = 0\n",
    "    for character in string:\n",
    "        if ord(character ) > 127:\n",
    "            not_ascii += 1\n",
    "    if not_ascii > 3:\n",
    "        return False\n",
    "    else:\n",
    "        return True\n",
    "\n",
    "print(is_english('Docs To Go™ Free Office Suite'))\n",
    "print(is_english('Instachat 😜'))"
   ]
  },
  {
   "cell_type": "markdown",
   "id": "a86c5e24",
   "metadata": {},
   "source": [
    "The function is still not perfect, and very few non-English apps might get past our filter, but this seems good enough for our analysis. So we use this function to clean our datasets."
   ]
  },
  {
   "cell_type": "markdown",
   "id": "64b6300f",
   "metadata": {},
   "source": [
    "**Removing Non-English apps from both our datasets**"
   ]
  },
  {
   "cell_type": "code",
   "execution_count": 105,
   "id": "8de1bc45",
   "metadata": {},
   "outputs": [
    {
     "name": "stdout",
     "output_type": "stream",
     "text": [
      "['Photo Editor & Candy Camera & Grid & ScrapBook', 'ART_AND_DESIGN', '4.1', '159', '19M', '10,000+', 'Free', '0', 'Everyone', 'Art & Design', 'January 7, 2018', '1.0.0', '4.0.3 and up']\n",
      "\n",
      "\n",
      "['U Launcher Lite – FREE Live Cool Themes, Hide Apps', 'ART_AND_DESIGN', '4.7', '87510', '8.7M', '5,000,000+', 'Free', '0', 'Everyone', 'Art & Design', 'August 1, 2018', '1.2.4', '4.0.3 and up']\n",
      "\n",
      "\n",
      "['Sketch - Draw & Paint', 'ART_AND_DESIGN', '4.5', '215644', '25M', '50,000,000+', 'Free', '0', 'Teen', 'Art & Design', 'June 8, 2018', 'Varies with device', '4.2 and up']\n",
      "\n",
      "\n",
      "Number of rows: 9614\n",
      "Number of columns: 13\n",
      "\n",
      "\n",
      "['284882215', 'Facebook', '389879808', 'USD', '0.0', '2974676', '212', '3.5', '3.5', '95.0', '4+', 'Social Networking', '37', '1', '29', '1']\n",
      "\n",
      "\n",
      "['389801252', 'Instagram', '113954816', 'USD', '0.0', '2161558', '1289', '4.5', '4.0', '10.23', '12+', 'Photo & Video', '37', '0', '29', '1']\n",
      "\n",
      "\n",
      "['529479190', 'Clash of Clans', '116476928', 'USD', '0.0', '2130805', '579', '4.5', '4.5', '9.24.12', '9+', 'Games', '38', '5', '18', '1']\n",
      "\n",
      "\n",
      "Number of rows: 6183\n",
      "Number of columns: 16\n"
     ]
    }
   ],
   "source": [
    "def english_apps(dataset, index):\n",
    "    english_dataset = []\n",
    "    for app in dataset:\n",
    "        name = app[index]\n",
    "        english_app = is_english(name)\n",
    "        if english_app:\n",
    "            english_dataset.append(app)\n",
    "    return english_dataset      \n",
    "\n",
    "android_english = english_apps(android_clean, 0)\n",
    "ios_english = english_apps(ios,1)\n",
    "\n",
    "explore_data(android_english, 0, 3, True)\n",
    "print('\\n')\n",
    "explore_data(ios_english, 0, 3, True)"
   ]
  },
  {
   "cell_type": "markdown",
   "id": "6ee16293",
   "metadata": {},
   "source": [
    "###  Isolating free apps"
   ]
  },
  {
   "cell_type": "markdown",
   "id": "6fd54480",
   "metadata": {},
   "source": [
    "Our revenue is from in-app ads and not when apps are purchased. So our focus is only on apps that are free."
   ]
  },
  {
   "cell_type": "code",
   "execution_count": 106,
   "id": "e2446568",
   "metadata": {},
   "outputs": [
    {
     "name": "stdout",
     "output_type": "stream",
     "text": [
      "['App', 'Category', 'Rating', 'Reviews', 'Size', 'Installs', 'Type', 'Price', 'Content Rating', 'Genres', 'Last Updated', 'Current Ver', 'Android Ver']\n",
      "\n",
      "\n",
      "['id', 'track_name', 'size_bytes', 'currency', 'price', 'rating_count_tot', 'rating_count_ver', 'user_rating', 'user_rating_ver', 'ver', 'cont_rating', 'prime_genre', 'sup_devices.num', 'ipadSc_urls.num', 'lang.num', 'vpp_lic']\n"
     ]
    }
   ],
   "source": [
    "# Checking index values for the pricing column\n",
    "print(android_header) \n",
    "print('\\n')\n",
    "print(ios_header)"
   ]
  },
  {
   "cell_type": "code",
   "execution_count": 107,
   "id": "df839938",
   "metadata": {},
   "outputs": [],
   "source": [
    "def free_apps_only(dataset, index):\n",
    "    free_set = []\n",
    "    for app in dataset:\n",
    "        price = app[index]\n",
    "        if price == '0' or price == '0.0':\n",
    "            free_set.append(app)\n",
    "    return free_set\n",
    "                        \n",
    "android_free = free_apps_only(android_english, 7)\n",
    "ios_free = free_apps_only(ios_english, 4) "
   ]
  },
  {
   "cell_type": "code",
   "execution_count": 108,
   "id": "2d82ea1a",
   "metadata": {},
   "outputs": [
    {
     "name": "stdout",
     "output_type": "stream",
     "text": [
      "['Photo Editor & Candy Camera & Grid & ScrapBook', 'ART_AND_DESIGN', '4.1', '159', '19M', '10,000+', 'Free', '0', 'Everyone', 'Art & Design', 'January 7, 2018', '1.0.0', '4.0.3 and up']\n",
      "\n",
      "\n",
      "['U Launcher Lite – FREE Live Cool Themes, Hide Apps', 'ART_AND_DESIGN', '4.7', '87510', '8.7M', '5,000,000+', 'Free', '0', 'Everyone', 'Art & Design', 'August 1, 2018', '1.2.4', '4.0.3 and up']\n",
      "\n",
      "\n",
      "['Sketch - Draw & Paint', 'ART_AND_DESIGN', '4.5', '215644', '25M', '50,000,000+', 'Free', '0', 'Teen', 'Art & Design', 'June 8, 2018', 'Varies with device', '4.2 and up']\n",
      "\n",
      "\n",
      "Number of rows: 8862\n",
      "Number of columns: 13\n",
      "\n",
      "\n",
      "['284882215', 'Facebook', '389879808', 'USD', '0.0', '2974676', '212', '3.5', '3.5', '95.0', '4+', 'Social Networking', '37', '1', '29', '1']\n",
      "\n",
      "\n",
      "['389801252', 'Instagram', '113954816', 'USD', '0.0', '2161558', '1289', '4.5', '4.0', '10.23', '12+', 'Photo & Video', '37', '0', '29', '1']\n",
      "\n",
      "\n",
      "['529479190', 'Clash of Clans', '116476928', 'USD', '0.0', '2130805', '579', '4.5', '4.5', '9.24.12', '9+', 'Games', '38', '5', '18', '1']\n",
      "\n",
      "\n",
      "Number of rows: 3222\n",
      "Number of columns: 16\n"
     ]
    }
   ],
   "source": [
    "explore_data(android_free, 0, 3, True)\n",
    "print('\\n')\n",
    "explore_data(ios_free, 0, 3, True)"
   ]
  },
  {
   "cell_type": "markdown",
   "id": "8a06fd03",
   "metadata": {},
   "source": [
    " ## Most common apps by genre\n",
    "Since we collect revenue through in app ads, we need to find app profiles that engage a lot of users. To find out what kind of apps bring in a good audience, we create frequency tables to view the percentage shares of each genre and sort them for a better understanding."
   ]
  },
  {
   "cell_type": "markdown",
   "id": "4f5043b9",
   "metadata": {},
   "source": [
    "**Frequency table to display percentage share of each genre**"
   ]
  },
  {
   "cell_type": "code",
   "execution_count": 109,
   "id": "7149bbda",
   "metadata": {},
   "outputs": [
    {
     "name": "stdout",
     "output_type": "stream",
     "text": [
      "{'Social Networking': 3.2898820608317814, 'Photo & Video': 4.9658597144630665, 'Games': 58.16263190564867, 'Music': 2.0484171322160147, 'Reference': 0.5586592178770949, 'Health & Fitness': 2.0173805090006205, 'Weather': 0.8690254500310366, 'Utilities': 2.5139664804469275, 'Travel': 1.2414649286157666, 'Shopping': 2.60707635009311, 'News': 1.3345747982619491, 'Navigation': 0.186219739292365, 'Lifestyle': 1.5828677839851024, 'Entertainment': 7.883302296710118, 'Food & Drink': 0.8069522036002483, 'Sports': 2.1415270018621975, 'Book': 0.4345127250155183, 'Finance': 1.1173184357541899, 'Education': 3.662321539416512, 'Productivity': 1.7380509000620732, 'Business': 0.5276225946617008, 'Catalogs': 0.12414649286157665, 'Medical': 0.186219739292365}\n",
      "\n",
      "\n",
      "{'ART_AND_DESIGN': 0.6431956668923494, 'AUTO_AND_VEHICLES': 0.9252990295644324, 'BEAUTY': 0.598059128864816, 'BOOKS_AND_REFERENCE': 2.143985556307831, 'BUSINESS': 4.5926427443015125, 'COMICS': 0.6206273978785828, 'COMMUNICATION': 3.238546603475513, 'DATING': 1.8618821936357481, 'EDUCATION': 1.1735499887158656, 'ENTERTAINMENT': 0.9591514330850823, 'EVENTS': 0.7109004739336493, 'FINANCE': 3.7011961182577298, 'FOOD_AND_DRINK': 1.2412547957571656, 'HEALTH_AND_FITNESS': 3.080568720379147, 'HOUSE_AND_HOME': 0.8237418190024826, 'LIBRARIES_AND_DEMO': 0.9365831640713158, 'LIFESTYLE': 3.9043105393816293, 'GAME': 9.693071541412774, 'FAMILY': 18.934777702550214, 'MEDICAL': 3.5206499661475967, 'SOCIAL': 2.663055743624464, 'SHOPPING': 2.2455427668697814, 'PHOTOGRAPHY': 2.945159106296547, 'SPORTS': 3.39652448657188, 'TRAVEL_AND_LOCAL': 2.335815842924848, 'TOOLS': 8.451816745655607, 'PERSONALIZATION': 3.3175355450236967, 'PRODUCTIVITY': 3.8930264048747465, 'PARENTING': 0.6544798013992327, 'WEATHER': 0.8011735499887158, 'VIDEO_PLAYERS': 1.7941773865944481, 'NEWS_AND_MAGAZINES': 2.798465357707064, 'MAPS_AND_NAVIGATION': 1.399232678853532}\n",
      "\n",
      "\n",
      "{'Art & Design': 0.598059128864816, 'Art & Design;Creativity': 0.06770480704129993, 'Auto & Vehicles': 0.9252990295644324, 'Beauty': 0.598059128864816, 'Books & Reference': 2.143985556307831, 'Business': 4.5926427443015125, 'Comics': 0.6093432633716994, 'Comics;Creativity': 0.011284134506883321, 'Communication': 3.238546603475513, 'Dating': 1.8618821936357481, 'Education': 5.348679756262695, 'Education;Creativity': 0.045136538027533285, 'Education;Education': 0.3385240352064997, 'Education;Pretend Play': 0.056420672534416606, 'Education;Brain Games': 0.033852403520649964, 'Entertainment': 6.070864364703228, 'Entertainment;Brain Games': 0.07898894154818326, 'Entertainment;Creativity': 0.033852403520649964, 'Entertainment;Music & Video': 0.16926201760324985, 'Events': 0.7109004739336493, 'Finance': 3.7011961182577298, 'Food & Drink': 1.2412547957571656, 'Health & Fitness': 3.080568720379147, 'House & Home': 0.8237418190024826, 'Libraries & Demo': 0.9365831640713158, 'Lifestyle': 3.8930264048747465, 'Lifestyle;Pretend Play': 0.011284134506883321, 'Arcade': 1.8505980591288649, 'Puzzle': 1.128413450688332, 'Racing': 0.9930038366057323, 'Sports': 3.4642292936131795, 'Casual': 1.7490408485669149, 'Simulation': 2.0424283457458814, 'Adventure': 0.6770480704129994, 'Trivia': 0.41751297675468296, 'Action': 3.1031369893929135, 'Word': 0.2595350936583164, 'Role Playing': 0.9365831640713158, 'Strategy': 0.9140148950575491, 'Board': 0.3723764387271496, 'Card': 0.4400812457684496, 'Music': 0.2031144211238998, 'Action;Action & Adventure': 0.1015572105619499, 'Casual;Brain Games': 0.13540961408259986, 'Educational;Creativity': 0.033852403520649964, 'Puzzle;Brain Games': 0.18054615211013314, 'Educational;Education': 0.3949447077409162, 'Card;Brain Games': 0.011284134506883321, 'Casual;Pretend Play': 0.23696682464454977, 'Educational;Brain Games': 0.06770480704129993, 'Art & Design;Pretend Play': 0.011284134506883321, 'Educational;Pretend Play': 0.09027307605506657, 'Entertainment;Education': 0.011284134506883321, 'Casual;Education': 0.022568269013766643, 'Casual;Creativity': 0.06770480704129993, 'Casual;Action & Adventure': 0.13540961408259986, 'Music;Music & Video': 0.022568269013766643, 'Arcade;Pretend Play': 0.011284134506883321, 'Adventure;Action & Adventure': 0.033852403520649964, 'Role Playing;Action & Adventure': 0.033852403520649964, 'Simulation;Pretend Play': 0.022568269013766643, 'Puzzle;Creativity': 0.022568269013766643, 'Simulation;Action & Adventure': 0.07898894154818326, 'Racing;Action & Adventure': 0.16926201760324985, 'Sports;Action & Adventure': 0.022568269013766643, 'Educational;Action & Adventure': 0.033852403520649964, 'Arcade;Action & Adventure': 0.12412547957571654, 'Entertainment;Action & Adventure': 0.033852403520649964, 'Art & Design;Action & Adventure': 0.011284134506883321, 'Puzzle;Action & Adventure': 0.033852403520649964, 'Education;Action & Adventure': 0.033852403520649964, 'Strategy;Action & Adventure': 0.011284134506883321, 'Music & Audio;Music & Video': 0.011284134506883321, 'Health & Fitness;Education': 0.011284134506883321, 'Board;Brain Games': 0.09027307605506657, 'Board;Action & Adventure': 0.022568269013766643, 'Casual;Music & Video': 0.011284134506883321, 'Education;Music & Video': 0.033852403520649964, 'Role Playing;Pretend Play': 0.045136538027533285, 'Entertainment;Pretend Play': 0.022568269013766643, 'Medical': 3.5206499661475967, 'Social': 2.663055743624464, 'Shopping': 2.2455427668697814, 'Photography': 2.945159106296547, 'Travel & Local': 2.324531708417964, 'Travel & Local;Action & Adventure': 0.011284134506883321, 'Tools': 8.440532611148726, 'Tools;Education': 0.011284134506883321, 'Personalization': 3.3175355450236967, 'Productivity': 3.8930264048747465, 'Parenting': 0.49650191830286616, 'Parenting;Music & Video': 0.06770480704129993, 'Parenting;Education': 0.07898894154818326, 'Parenting;Brain Games': 0.011284134506883321, 'Weather': 0.8011735499887158, 'Video Players & Editors': 1.7716091175806816, 'Video Players & Editors;Music & Video': 0.022568269013766643, 'Video Players & Editors;Creativity': 0.011284134506883321, 'News & Magazines': 2.798465357707064, 'Maps & Navigation': 1.399232678853532, 'Health & Fitness;Action & Adventure': 0.011284134506883321, 'Educational': 0.3723764387271496, 'Casino': 0.4287971112615662, 'Trivia;Education': 0.011284134506883321, 'Lifestyle;Education': 0.011284134506883321, 'Card;Action & Adventure': 0.011284134506883321, 'Books & Reference;Education': 0.011284134506883321, 'Simulation;Education': 0.011284134506883321, 'Puzzle;Education': 0.011284134506883321, 'Adventure;Education': 0.011284134506883321, 'Role Playing;Brain Games': 0.011284134506883321, 'Strategy;Education': 0.011284134506883321, 'Racing;Pretend Play': 0.011284134506883321, 'Communication;Creativity': 0.011284134506883321, 'Strategy;Creativity': 0.011284134506883321}\n"
     ]
    }
   ],
   "source": [
    "def freq_table(dataset, index):\n",
    "    total = 0\n",
    "    genres = {}\n",
    "    \n",
    "    for app in dataset:\n",
    "        total += 1\n",
    "        genre = app[index]\n",
    "        if genre in genres:\n",
    "            genres[genre] += 1\n",
    "        else:\n",
    "            genres[genre] = 1\n",
    "    for app in genres:\n",
    "        genres[app] = (genres[app]/total) * 100        \n",
    "    return genres    \n",
    "\n",
    "ios_freq = freq_table(ios_free, 11)\n",
    "android_cat = freq_table(android_free, 1) #Category column\n",
    "android_genre = freq_table(android_free, -4) #Genres column\n",
    "\n",
    "print(ios_freq)\n",
    "print('\\n')\n",
    "print(android_cat)\n",
    "print('\\n')\n",
    "print(android_genre)"
   ]
  },
  {
   "cell_type": "markdown",
   "id": "912da647",
   "metadata": {},
   "source": [
    "**Function to display genre shares in order**"
   ]
  },
  {
   "cell_type": "code",
   "execution_count": 110,
   "id": "ef4eda2e",
   "metadata": {},
   "outputs": [],
   "source": [
    "def genre_in_order(perc_dict):\n",
    "    table = []\n",
    "    for key in perc_dict:\n",
    "        genre_perc = perc_dict[key], key\n",
    "        table.append(genre_perc)\n",
    "        \n",
    "    table_sorted = sorted(table, reverse = True)\n",
    "    for entry in table_sorted:\n",
    "        print(entry[1], ':', entry[0])"
   ]
  },
  {
   "cell_type": "code",
   "execution_count": 111,
   "id": "883e5f1c",
   "metadata": {
    "scrolled": true
   },
   "outputs": [
    {
     "name": "stdout",
     "output_type": "stream",
     "text": [
      "Games : 58.16263190564867\n",
      "Entertainment : 7.883302296710118\n",
      "Photo & Video : 4.9658597144630665\n",
      "Education : 3.662321539416512\n",
      "Social Networking : 3.2898820608317814\n",
      "Shopping : 2.60707635009311\n",
      "Utilities : 2.5139664804469275\n",
      "Sports : 2.1415270018621975\n",
      "Music : 2.0484171322160147\n",
      "Health & Fitness : 2.0173805090006205\n",
      "Productivity : 1.7380509000620732\n",
      "Lifestyle : 1.5828677839851024\n",
      "News : 1.3345747982619491\n",
      "Travel : 1.2414649286157666\n",
      "Finance : 1.1173184357541899\n",
      "Weather : 0.8690254500310366\n",
      "Food & Drink : 0.8069522036002483\n",
      "Reference : 0.5586592178770949\n",
      "Business : 0.5276225946617008\n",
      "Book : 0.4345127250155183\n",
      "Navigation : 0.186219739292365\n",
      "Medical : 0.186219739292365\n",
      "Catalogs : 0.12414649286157665\n"
     ]
    }
   ],
   "source": [
    "ios_ordered = genre_in_order(ios_freq)"
   ]
  },
  {
   "cell_type": "markdown",
   "id": "05a78334",
   "metadata": {},
   "source": [
    "We can see that the majority of the apps are for gaming. This implies that the free English apps in the App Store are dominated by apps designed for fun rather than education or productivity etc., But just because the fun apps are most common in our analysis, it does not mean that they engage a lot of users."
   ]
  },
  {
   "cell_type": "markdown",
   "id": "5aa6be48",
   "metadata": {},
   "source": [
    "Let us examine the **Category** and **Genres** columns in the Google Playstore dataset"
   ]
  },
  {
   "cell_type": "code",
   "execution_count": 112,
   "id": "ca554330",
   "metadata": {
    "scrolled": false
   },
   "outputs": [
    {
     "name": "stdout",
     "output_type": "stream",
     "text": [
      "FAMILY : 18.934777702550214\n",
      "GAME : 9.693071541412774\n",
      "TOOLS : 8.451816745655607\n",
      "BUSINESS : 4.5926427443015125\n",
      "LIFESTYLE : 3.9043105393816293\n",
      "PRODUCTIVITY : 3.8930264048747465\n",
      "FINANCE : 3.7011961182577298\n",
      "MEDICAL : 3.5206499661475967\n",
      "SPORTS : 3.39652448657188\n",
      "PERSONALIZATION : 3.3175355450236967\n",
      "COMMUNICATION : 3.238546603475513\n",
      "HEALTH_AND_FITNESS : 3.080568720379147\n",
      "PHOTOGRAPHY : 2.945159106296547\n",
      "NEWS_AND_MAGAZINES : 2.798465357707064\n",
      "SOCIAL : 2.663055743624464\n",
      "TRAVEL_AND_LOCAL : 2.335815842924848\n",
      "SHOPPING : 2.2455427668697814\n",
      "BOOKS_AND_REFERENCE : 2.143985556307831\n",
      "DATING : 1.8618821936357481\n",
      "VIDEO_PLAYERS : 1.7941773865944481\n",
      "MAPS_AND_NAVIGATION : 1.399232678853532\n",
      "FOOD_AND_DRINK : 1.2412547957571656\n",
      "EDUCATION : 1.1735499887158656\n",
      "ENTERTAINMENT : 0.9591514330850823\n",
      "LIBRARIES_AND_DEMO : 0.9365831640713158\n",
      "AUTO_AND_VEHICLES : 0.9252990295644324\n",
      "HOUSE_AND_HOME : 0.8237418190024826\n",
      "WEATHER : 0.8011735499887158\n",
      "EVENTS : 0.7109004739336493\n",
      "PARENTING : 0.6544798013992327\n",
      "ART_AND_DESIGN : 0.6431956668923494\n",
      "COMICS : 0.6206273978785828\n",
      "BEAUTY : 0.598059128864816\n"
     ]
    }
   ],
   "source": [
    "android_cat_ordered = genre_in_order(android_cat) #Category column"
   ]
  },
  {
   "cell_type": "markdown",
   "id": "adce669e",
   "metadata": {},
   "source": [
    "In contract to the App Store, Google Playstore has most of its apps focussed on practical purposes like 'Family', 'Tools' etc., rather than fun. The demographics of the **Genre** column proves that apps meant for practical purposes have a better representation on the Google Playstore than in the App Store as shown below."
   ]
  },
  {
   "cell_type": "code",
   "execution_count": 113,
   "id": "174e4202",
   "metadata": {
    "scrolled": false
   },
   "outputs": [
    {
     "name": "stdout",
     "output_type": "stream",
     "text": [
      "Tools : 8.440532611148726\n",
      "Entertainment : 6.070864364703228\n",
      "Education : 5.348679756262695\n",
      "Business : 4.5926427443015125\n",
      "Productivity : 3.8930264048747465\n",
      "Lifestyle : 3.8930264048747465\n",
      "Finance : 3.7011961182577298\n",
      "Medical : 3.5206499661475967\n",
      "Sports : 3.4642292936131795\n",
      "Personalization : 3.3175355450236967\n",
      "Communication : 3.238546603475513\n",
      "Action : 3.1031369893929135\n",
      "Health & Fitness : 3.080568720379147\n",
      "Photography : 2.945159106296547\n",
      "News & Magazines : 2.798465357707064\n",
      "Social : 2.663055743624464\n",
      "Travel & Local : 2.324531708417964\n",
      "Shopping : 2.2455427668697814\n",
      "Books & Reference : 2.143985556307831\n",
      "Simulation : 2.0424283457458814\n",
      "Dating : 1.8618821936357481\n",
      "Arcade : 1.8505980591288649\n",
      "Video Players & Editors : 1.7716091175806816\n",
      "Casual : 1.7490408485669149\n",
      "Maps & Navigation : 1.399232678853532\n",
      "Food & Drink : 1.2412547957571656\n",
      "Puzzle : 1.128413450688332\n",
      "Racing : 0.9930038366057323\n",
      "Role Playing : 0.9365831640713158\n",
      "Libraries & Demo : 0.9365831640713158\n",
      "Auto & Vehicles : 0.9252990295644324\n",
      "Strategy : 0.9140148950575491\n",
      "House & Home : 0.8237418190024826\n",
      "Weather : 0.8011735499887158\n",
      "Events : 0.7109004739336493\n",
      "Adventure : 0.6770480704129994\n",
      "Comics : 0.6093432633716994\n",
      "Beauty : 0.598059128864816\n",
      "Art & Design : 0.598059128864816\n",
      "Parenting : 0.49650191830286616\n",
      "Card : 0.4400812457684496\n",
      "Casino : 0.4287971112615662\n",
      "Trivia : 0.41751297675468296\n",
      "Educational;Education : 0.3949447077409162\n",
      "Educational : 0.3723764387271496\n",
      "Board : 0.3723764387271496\n",
      "Education;Education : 0.3385240352064997\n",
      "Word : 0.2595350936583164\n",
      "Casual;Pretend Play : 0.23696682464454977\n",
      "Music : 0.2031144211238998\n",
      "Puzzle;Brain Games : 0.18054615211013314\n",
      "Racing;Action & Adventure : 0.16926201760324985\n",
      "Entertainment;Music & Video : 0.16926201760324985\n",
      "Casual;Brain Games : 0.13540961408259986\n",
      "Casual;Action & Adventure : 0.13540961408259986\n",
      "Arcade;Action & Adventure : 0.12412547957571654\n",
      "Action;Action & Adventure : 0.1015572105619499\n",
      "Educational;Pretend Play : 0.09027307605506657\n",
      "Board;Brain Games : 0.09027307605506657\n",
      "Simulation;Action & Adventure : 0.07898894154818326\n",
      "Parenting;Education : 0.07898894154818326\n",
      "Entertainment;Brain Games : 0.07898894154818326\n",
      "Parenting;Music & Video : 0.06770480704129993\n",
      "Educational;Brain Games : 0.06770480704129993\n",
      "Casual;Creativity : 0.06770480704129993\n",
      "Art & Design;Creativity : 0.06770480704129993\n",
      "Education;Pretend Play : 0.056420672534416606\n",
      "Role Playing;Pretend Play : 0.045136538027533285\n",
      "Education;Creativity : 0.045136538027533285\n",
      "Role Playing;Action & Adventure : 0.033852403520649964\n",
      "Puzzle;Action & Adventure : 0.033852403520649964\n",
      "Entertainment;Creativity : 0.033852403520649964\n",
      "Entertainment;Action & Adventure : 0.033852403520649964\n",
      "Educational;Creativity : 0.033852403520649964\n",
      "Educational;Action & Adventure : 0.033852403520649964\n",
      "Education;Music & Video : 0.033852403520649964\n",
      "Education;Brain Games : 0.033852403520649964\n",
      "Education;Action & Adventure : 0.033852403520649964\n",
      "Adventure;Action & Adventure : 0.033852403520649964\n",
      "Video Players & Editors;Music & Video : 0.022568269013766643\n",
      "Sports;Action & Adventure : 0.022568269013766643\n",
      "Simulation;Pretend Play : 0.022568269013766643\n",
      "Puzzle;Creativity : 0.022568269013766643\n",
      "Music;Music & Video : 0.022568269013766643\n",
      "Entertainment;Pretend Play : 0.022568269013766643\n",
      "Casual;Education : 0.022568269013766643\n",
      "Board;Action & Adventure : 0.022568269013766643\n",
      "Video Players & Editors;Creativity : 0.011284134506883321\n",
      "Trivia;Education : 0.011284134506883321\n",
      "Travel & Local;Action & Adventure : 0.011284134506883321\n",
      "Tools;Education : 0.011284134506883321\n",
      "Strategy;Education : 0.011284134506883321\n",
      "Strategy;Creativity : 0.011284134506883321\n",
      "Strategy;Action & Adventure : 0.011284134506883321\n",
      "Simulation;Education : 0.011284134506883321\n",
      "Role Playing;Brain Games : 0.011284134506883321\n",
      "Racing;Pretend Play : 0.011284134506883321\n",
      "Puzzle;Education : 0.011284134506883321\n",
      "Parenting;Brain Games : 0.011284134506883321\n",
      "Music & Audio;Music & Video : 0.011284134506883321\n",
      "Lifestyle;Pretend Play : 0.011284134506883321\n",
      "Lifestyle;Education : 0.011284134506883321\n",
      "Health & Fitness;Education : 0.011284134506883321\n",
      "Health & Fitness;Action & Adventure : 0.011284134506883321\n",
      "Entertainment;Education : 0.011284134506883321\n",
      "Communication;Creativity : 0.011284134506883321\n",
      "Comics;Creativity : 0.011284134506883321\n",
      "Casual;Music & Video : 0.011284134506883321\n",
      "Card;Brain Games : 0.011284134506883321\n",
      "Card;Action & Adventure : 0.011284134506883321\n",
      "Books & Reference;Education : 0.011284134506883321\n",
      "Art & Design;Pretend Play : 0.011284134506883321\n",
      "Art & Design;Action & Adventure : 0.011284134506883321\n",
      "Arcade;Pretend Play : 0.011284134506883321\n",
      "Adventure;Education : 0.011284134506883321\n"
     ]
    }
   ],
   "source": [
    "android_genre_ordered = genre_in_order(android_genre) #Genre column"
   ]
  },
  {
   "cell_type": "markdown",
   "id": "c0f8f2b6",
   "metadata": {},
   "source": [
    "We can notice that the Genres column has more categories than the Category column. We're only looking for the bigger picture at the moment, so we'll only work with the Category column moving forward."
   ]
  },
  {
   "cell_type": "markdown",
   "id": "8b1a96a5",
   "metadata": {},
   "source": [
    "### Most popular apps by genre on the App store\n",
    "To find out apps that have the most users, we can calculate the average number of installs for each app genre. For the Google Play data set, we can find this information in the **Installs** column, but for the App Store data set this information is missing. As a workaround, we'll take the total number of user ratings as a proxy, which we can find in the 'rating_count_tot' app.\n",
    "\n",
    "**Average number of user ratings per app genre on the App Store**"
   ]
  },
  {
   "cell_type": "code",
   "execution_count": 114,
   "id": "ffdd311f",
   "metadata": {
    "scrolled": false
   },
   "outputs": [
    {
     "name": "stdout",
     "output_type": "stream",
     "text": [
      "Navigation : 86090.33333333333\n",
      "Reference : 74942.11111111111\n",
      "Social Networking : 71548.34905660378\n",
      "Music : 57326.530303030304\n",
      "Weather : 52279.892857142855\n",
      "Book : 39758.5\n",
      "Food & Drink : 33333.92307692308\n",
      "Finance : 31467.944444444445\n",
      "Photo & Video : 28441.54375\n",
      "Travel : 28243.8\n",
      "Shopping : 26919.690476190477\n",
      "Health & Fitness : 23298.015384615384\n",
      "Sports : 23008.898550724636\n",
      "Games : 22788.6696905016\n",
      "News : 21248.023255813954\n",
      "Productivity : 21028.410714285714\n",
      "Utilities : 18684.456790123455\n",
      "Lifestyle : 16485.764705882353\n",
      "Entertainment : 14029.830708661417\n",
      "Business : 7491.117647058823\n",
      "Education : 7003.983050847458\n",
      "Catalogs : 4004.0\n",
      "Medical : 612.0\n"
     ]
    }
   ],
   "source": [
    "rating_count = {}\n",
    "\n",
    "for genre in ios_freq:\n",
    "    count = 0\n",
    "    length_genre = 0\n",
    "    for app in ios_free:\n",
    "        app_genre = app[11]\n",
    "        rating = app[5]\n",
    "        if app_genre == genre:\n",
    "            count += float(rating)\n",
    "            length_genre += 1\n",
    "    rating_count[genre] = count/length_genre\n",
    "\n",
    "genre_in_order(rating_count)"
   ]
  },
  {
   "cell_type": "markdown",
   "id": "13d6c0bf",
   "metadata": {},
   "source": [
    "**Apps skewing the average and why**"
   ]
  },
  {
   "cell_type": "markdown",
   "id": "6c204eb5",
   "metadata": {},
   "source": [
    "On average, navigation apps have the highest number of user reviews, but this figure is heavily influenced by Waze and Google Maps, which have close to half a million user reviews together:"
   ]
  },
  {
   "cell_type": "code",
   "execution_count": 115,
   "id": "254e877d",
   "metadata": {},
   "outputs": [
    {
     "name": "stdout",
     "output_type": "stream",
     "text": [
      "Waze - GPS Navigation, Maps & Real-time Traffic : 345046\n",
      "Google Maps - Navigation & Transit : 154911\n",
      "Geocaching® : 12811\n",
      "CoPilot GPS – Car Navigation & Offline Maps : 3582\n",
      "ImmobilienScout24: Real Estate Search in Germany : 187\n",
      "Railway Route Search : 5\n"
     ]
    }
   ],
   "source": [
    "for app in ios_free:\n",
    "    if app[-5] == 'Navigation':\n",
    "        print(app[1], ':', app[5]) # printing app name and number of ratings"
   ]
  },
  {
   "cell_type": "markdown",
   "id": "7a5a6a9f",
   "metadata": {},
   "source": [
    "The same pattern applies to social networking apps, where the average number is heavily influenced by a few giants like Facebook, Pinterest etc. Same applies to music apps, where a few big players like Pandora, Spotify, and Shazam heavily influence the average number.\n",
    "\n",
    "The average number of ratings seem to be skewed by very few apps which have hundreds of thousands of user ratings, while the other apps may struggle to get past the 10,000 threshold. We could get a better picture by removing these extremely popular apps for each genre and then rework the averages but we'll leave this level of detail for now.\n",
    "\n",
    "**'Reference'** apps have 74,942 user ratings on average, but it's actually the Bible and Dictionary.com which skew up the average rating:"
   ]
  },
  {
   "cell_type": "code",
   "execution_count": 116,
   "id": "db9a1767",
   "metadata": {},
   "outputs": [
    {
     "name": "stdout",
     "output_type": "stream",
     "text": [
      "Bible : 985920\n",
      "Dictionary.com Dictionary & Thesaurus : 200047\n",
      "Dictionary.com Dictionary & Thesaurus for iPad : 54175\n",
      "Google Translate : 26786\n",
      "Muslim Pro: Ramadan 2017 Prayer Times, Azan, Quran : 18418\n",
      "New Furniture Mods - Pocket Wiki & Game Tools for Minecraft PC Edition : 17588\n",
      "Merriam-Webster Dictionary : 16849\n",
      "Night Sky : 12122\n",
      "City Maps for Minecraft PE - The Best Maps for Minecraft Pocket Edition (MCPE) : 8535\n",
      "LUCKY BLOCK MOD ™ for Minecraft PC Edition - The Best Pocket Wiki & Mods Installer Tools : 4693\n",
      "GUNS MODS for Minecraft PC Edition - Mods Tools : 1497\n",
      "Guides for Pokémon GO - Pokemon GO News and Cheats : 826\n",
      "WWDC : 762\n",
      "Horror Maps for Minecraft PE - Download The Scariest Maps for Minecraft Pocket Edition (MCPE) Free : 718\n",
      "VPN Express : 14\n",
      "Real Bike Traffic Rider Virtual Reality Glasses : 8\n",
      "教えて!goo : 0\n",
      "Jishokun-Japanese English Dictionary & Translator : 0\n"
     ]
    }
   ],
   "source": [
    "for app in ios_free:\n",
    "    if app[-5] == 'Reference':\n",
    "        print(app[1], ':', app[5]) # printing app name and number of ratings"
   ]
  },
  {
   "cell_type": "markdown",
   "id": "6a2e65ce",
   "metadata": {},
   "source": [
    "**Suggested App Profile for App Store** <br>\n",
    "However, this niche seems to show some potential. One thing we could do is take another popular book and turn it into an app where we could add different features besides the raw version of the book. This might include daily quotes from the book, an audio version of the book, quizzes about the book, etc. On top of that, we could also embed a dictionary within the app, so users don't need to exit our app to look up words in an external app.\n",
    "\n",
    "**Reasoning** <br>\n",
    "This idea seems to fit well with the fact that the App Store is dominated by for-fun apps. This suggests the market might be a bit saturated with for-fun apps, which means a practical app might have more of a chance to stand out among the huge number of apps on the App Store.\n",
    "\n",
    "**Why not to invest in other popular genres** <br>\n",
    "Other genres that seem popular include weather, book, food and drink, or finance. The book genre seem to overlap a bit with the app idea we described above, but the other genres don't seem too interesting to us:\n",
    "\n",
    "Weather apps — people generally don't spend too much time in-app, and the chances of making profit from in-app adds are low. Also, getting reliable live weather data may require us to connect our apps to non-free APIs.\n",
    "\n",
    "Food and drink — examples here include Starbucks, Dunkin' Donuts, McDonald's, etc. So making a popular food and drink app requires actual cooking and a delivery service, which is outside the scope of our company.\n",
    "\n",
    "Finance apps — these apps involve banking, paying bills, money transfer, etc. Building a finance app requires domain knowledge, and we don't want to hire a finance expert just to build an app."
   ]
  },
  {
   "cell_type": "markdown",
   "id": "fec20f8d",
   "metadata": {},
   "source": [
    "**Analysing Google Play market**"
   ]
  },
  {
   "cell_type": "markdown",
   "id": "4cffa03c",
   "metadata": {},
   "source": [
    "For the Google Play market, we actually have data about the number of installs, so we should be able to get a clearer picture about genre popularity. However, the install numbers don't seem precise enough — we can see that most values are open-ended (100+, 1,000+, 5,000+, etc.):"
   ]
  },
  {
   "cell_type": "code",
   "execution_count": 117,
   "id": "ef20a05d",
   "metadata": {},
   "outputs": [
    {
     "name": "stdout",
     "output_type": "stream",
     "text": [
      "1,000,000+ : 15.741367637102236\n",
      "100,000+ : 11.554953735048521\n",
      "10,000,000+ : 10.516813360415256\n",
      "10,000+ : 10.200857594222523\n",
      "1,000+ : 8.395396073121193\n",
      "100+ : 6.917174452719477\n",
      "5,000,000+ : 6.838185511171294\n",
      "500,000+ : 5.574362446400361\n",
      "50,000+ : 4.773188896411646\n",
      "5,000+ : 4.513653802753328\n",
      "10+ : 3.5432182351613632\n",
      "500+ : 3.2498307379823967\n",
      "50,000,000+ : 2.2906793048973144\n",
      "100,000,000+ : 2.1214172872940646\n",
      "50+ : 1.9183028661701647\n",
      "5+ : 0.7898894154818324\n",
      "1+ : 0.5077860528097494\n",
      "500,000,000+ : 0.2708192281651997\n",
      "1,000,000,000+ : 0.22568269013766643\n",
      "0+ : 0.045136538027533285\n",
      "0 : 0.011284134506883321\n",
      "None\n"
     ]
    }
   ],
   "source": [
    "installs_freq = freq_table(android_free, 5)\n",
    "installs_ordered = genre_in_order(installs_freq)\n",
    "print(installs_ordered)"
   ]
  },
  {
   "cell_type": "markdown",
   "id": "950b4153",
   "metadata": {},
   "source": [
    "One problem with this data is that is not precise. For instance, we don't know whether an app with 100,000+ installs has 100,000 installs, 200,000, or 350,000. However, we don't need very precise data for our purposes — we only want to get an idea which app genres attract the most users, and we don't need perfect precision with respect to the number of users.\n",
    "\n",
    "We're going to leave the numbers as they are, which means that we'll consider that an app with 100,000+ installs has 100,000 installs, and an app with 1,000,000+ installs has 1,000,000 installs, and so on.\n",
    "\n",
    "To perform computations, however, we'll need to convert each install number to float — this means that we need to remove the commas and the plus characters."
   ]
  },
  {
   "cell_type": "code",
   "execution_count": 118,
   "id": "33a0edcd",
   "metadata": {
    "scrolled": true
   },
   "outputs": [
    {
     "name": "stdout",
     "output_type": "stream",
     "text": [
      "COMMUNICATION : 38456119.167247385\n",
      "VIDEO_PLAYERS : 24727872.452830188\n",
      "SOCIAL : 23253652.127118643\n",
      "PHOTOGRAPHY : 17805627.643678162\n",
      "PRODUCTIVITY : 16787331.344927534\n",
      "GAME : 15560965.599534342\n",
      "TRAVEL_AND_LOCAL : 13984077.710144928\n",
      "ENTERTAINMENT : 11640705.88235294\n",
      "TOOLS : 10682301.033377837\n",
      "NEWS_AND_MAGAZINES : 9549178.467741935\n",
      "BOOKS_AND_REFERENCE : 8767811.894736841\n",
      "SHOPPING : 7036877.311557789\n",
      "PERSONALIZATION : 5201482.6122448975\n",
      "WEATHER : 5074486.197183099\n",
      "HEALTH_AND_FITNESS : 4188821.9853479853\n",
      "MAPS_AND_NAVIGATION : 4056941.7741935486\n",
      "FAMILY : 3694276.334922527\n",
      "SPORTS : 3638640.1428571427\n",
      "ART_AND_DESIGN : 1986335.0877192982\n",
      "FOOD_AND_DRINK : 1924897.7363636363\n",
      "EDUCATION : 1820673.076923077\n",
      "BUSINESS : 1712290.1474201474\n",
      "LIFESTYLE : 1437816.2687861272\n",
      "FINANCE : 1387692.475609756\n",
      "HOUSE_AND_HOME : 1331540.5616438356\n",
      "DATING : 854028.8303030303\n",
      "COMICS : 817657.2727272727\n",
      "AUTO_AND_VEHICLES : 647317.8170731707\n",
      "LIBRARIES_AND_DEMO : 638503.734939759\n",
      "PARENTING : 542603.6206896552\n",
      "BEAUTY : 513151.88679245283\n",
      "EVENTS : 253542.22222222222\n",
      "MEDICAL : 120616.48717948717\n"
     ]
    }
   ],
   "source": [
    "installs_count = {}\n",
    "\n",
    "for category in android_cat:\n",
    "    total_installs = 0\n",
    "    length_category = 0\n",
    "    for app in android_free:\n",
    "        app_category = app[1]\n",
    "        if app_category == category:\n",
    "            installs = app[5]\n",
    "            installs = installs.replace(',', '')\n",
    "            installs = installs.replace('+', '')\n",
    "            total_installs += float(installs)\n",
    "            length_category += 1\n",
    "    installs_count[category] = total_installs / length_category\n",
    "\n",
    "genre_in_order(installs_count)"
   ]
  },
  {
   "cell_type": "markdown",
   "id": "b328250e",
   "metadata": {},
   "source": [
    "**Apps skewing the average like before** <br>"
   ]
  },
  {
   "cell_type": "markdown",
   "id": "b04da5c7",
   "metadata": {},
   "source": [
    "On average, communication apps have the most installs: 38,456,119. This number is heavily skewed up by a few apps that have over one billion installs (WhatsApp, Facebook Messenger, Skype, Google Chrome, Gmail, and Hangouts), and a few others with over 100 and 500 million installs:"
   ]
  },
  {
   "cell_type": "code",
   "execution_count": 119,
   "id": "ac00b330",
   "metadata": {},
   "outputs": [
    {
     "name": "stdout",
     "output_type": "stream",
     "text": [
      "WhatsApp Messenger : 1,000,000,000+\n",
      "imo beta free calls and text : 100,000,000+\n",
      "Android Messages : 100,000,000+\n",
      "Google Duo - High Quality Video Calls : 500,000,000+\n",
      "Messenger – Text and Video Chat for Free : 1,000,000,000+\n",
      "imo free video calls and chat : 500,000,000+\n",
      "Skype - free IM & video calls : 1,000,000,000+\n",
      "Who : 100,000,000+\n",
      "GO SMS Pro - Messenger, Free Themes, Emoji : 100,000,000+\n",
      "LINE: Free Calls & Messages : 500,000,000+\n",
      "Google Chrome: Fast & Secure : 1,000,000,000+\n",
      "Firefox Browser fast & private : 100,000,000+\n",
      "UC Browser - Fast Download Private & Secure : 500,000,000+\n",
      "Gmail : 1,000,000,000+\n",
      "Hangouts : 1,000,000,000+\n",
      "Messenger Lite: Free Calls & Messages : 100,000,000+\n",
      "Kik : 100,000,000+\n",
      "KakaoTalk: Free Calls & Text : 100,000,000+\n",
      "Opera Mini - fast web browser : 100,000,000+\n",
      "Opera Browser: Fast and Secure : 100,000,000+\n",
      "Telegram : 100,000,000+\n",
      "Truecaller: Caller ID, SMS spam blocking & Dialer : 100,000,000+\n",
      "UC Browser Mini -Tiny Fast Private & Secure : 100,000,000+\n",
      "Viber Messenger : 500,000,000+\n",
      "WeChat : 100,000,000+\n",
      "Yahoo Mail – Stay Organized : 100,000,000+\n",
      "BBM - Free Calls & Messages : 100,000,000+\n"
     ]
    }
   ],
   "source": [
    "for app in android_free:\n",
    "    if app[1] == 'COMMUNICATION' and (app[5] == '1,000,000,000+'  \n",
    "                                      or app[5] == '500,000,000+'\n",
    "                                      or app[5] == '100,000,000+'):\n",
    "        print(app[0], ':', app[5]) #app name : installs"
   ]
  },
  {
   "cell_type": "markdown",
   "id": "77415094",
   "metadata": {},
   "source": [
    "**Removing apps with over 100 millions installs** <br>\n",
    "If we removed all the communication apps that have over 100 million installs, the average would be reduced roughly ten times:"
   ]
  },
  {
   "cell_type": "code",
   "execution_count": 120,
   "id": "cb36710e",
   "metadata": {},
   "outputs": [
    {
     "data": {
      "text/plain": [
       "3603485.3884615386"
      ]
     },
     "execution_count": 120,
     "metadata": {},
     "output_type": "execute_result"
    }
   ],
   "source": [
    "under_100_mil = []\n",
    "\n",
    "for app in android_free:\n",
    "    installs = app[5]\n",
    "    installs = installs.replace(',', '')\n",
    "    installs = installs.replace('+', '')\n",
    "    if (app[1] == 'COMMUNICATION') and (float(installs) < 100000000):\n",
    "        under_100_mil.append(float(installs))\n",
    "        \n",
    "sum(under_100_mil) / len(under_100_mil)"
   ]
  },
  {
   "cell_type": "markdown",
   "id": "dcf1dc50",
   "metadata": {},
   "source": [
    "**Similar occurances across various categories** <br>\n",
    "We see the same pattern for the video players category, which is the runner-up with 24,727,872 installs. The market is dominated by apps like Youtube, Google Play Movies & TV, or MX Player. The pattern is repeated for social apps (where we have giants like Facebook, Instagram, Google+, etc.), photography apps (Google Photos and other popular photo editors), or productivity apps (Microsoft Word, Dropbox, Google Calendar, Evernote, etc.).\n",
    "\n",
    "Again, the main concern is that these app genres might seem more popular than they really are. Moreover, these niches seem to be dominated by a few giants who are hard to compete against.\n",
    "\n",
    "The game genre seems pretty popular, but previously we found out this part of the market seems a bit saturated, so we'd like to come up with a different app recommendation if possible.\n",
    "\n",
    "**Checking to see if we can suggest to invest in a book app** <br>\n",
    "The books and reference genre looks fairly popular as well, with an average number of installs of 8,767,811. It's interesting to explore this in more depth, since we found this genre has some potential to work well on the App Store, and our aim is to recommend an app genre that shows potential for being profitable on both the App Store and Google Play.\n",
    "\n",
    "Let's take a look at some of the apps from this genre and their number of installs:"
   ]
  },
  {
   "cell_type": "code",
   "execution_count": 121,
   "id": "3198349a",
   "metadata": {},
   "outputs": [
    {
     "name": "stdout",
     "output_type": "stream",
     "text": [
      "E-Book Read - Read Book for free : 50,000+\n",
      "Download free book with green book : 100,000+\n",
      "Wikipedia : 10,000,000+\n",
      "Cool Reader : 10,000,000+\n",
      "Free Panda Radio Music : 100,000+\n",
      "Book store : 1,000,000+\n",
      "FBReader: Favorite Book Reader : 10,000,000+\n",
      "English Grammar Complete Handbook : 500,000+\n",
      "Free Books - Spirit Fanfiction and Stories : 1,000,000+\n",
      "Google Play Books : 1,000,000,000+\n",
      "AlReader -any text book reader : 5,000,000+\n",
      "Offline English Dictionary : 100,000+\n",
      "Offline: English to Tagalog Dictionary : 500,000+\n",
      "FamilySearch Tree : 1,000,000+\n",
      "Cloud of Books : 1,000,000+\n",
      "Recipes of Prophetic Medicine for free : 500,000+\n",
      "ReadEra – free ebook reader : 1,000,000+\n",
      "Anonymous caller detection : 10,000+\n",
      "Ebook Reader : 5,000,000+\n",
      "Litnet - E-books : 100,000+\n",
      "Read books online : 5,000,000+\n",
      "English to Urdu Dictionary : 500,000+\n",
      "eBoox: book reader fb2 epub zip : 1,000,000+\n",
      "English Persian Dictionary : 500,000+\n",
      "Flybook : 500,000+\n",
      "All Maths Formulas : 1,000,000+\n",
      "Ancestry : 5,000,000+\n",
      "HTC Help : 10,000,000+\n",
      "English translation from Bengali : 100,000+\n",
      "Pdf Book Download - Read Pdf Book : 100,000+\n",
      "Free Book Reader : 100,000+\n",
      "eBoox new: Reader for fb2 epub zip books : 50,000+\n",
      "Only 30 days in English, the guideline is guaranteed : 500,000+\n",
      "Moon+ Reader : 10,000,000+\n",
      "SH-02J Owner's Manual (Android 8.0) : 50,000+\n",
      "English-Myanmar Dictionary : 1,000,000+\n",
      "Golden Dictionary (EN-AR) : 1,000,000+\n",
      "All Language Translator Free : 1,000,000+\n",
      "Azpen eReader : 500,000+\n",
      "URBANO V 02 instruction manual : 100,000+\n",
      "Bible : 100,000,000+\n",
      "C Programs and Reference : 50,000+\n",
      "C Offline Tutorial : 1,000+\n",
      "C Programs Handbook : 50,000+\n",
      "Amazon Kindle : 100,000,000+\n",
      "Aab e Hayat Full Novel : 100,000+\n",
      "Aldiko Book Reader : 10,000,000+\n",
      "Google I/O 2018 : 500,000+\n",
      "R Language Reference Guide : 10,000+\n",
      "Learn R Programming Full : 5,000+\n",
      "R Programing Offline Tutorial : 1,000+\n",
      "Guide for R Programming : 5+\n",
      "Learn R Programming : 10+\n",
      "R Quick Reference Big Data : 1,000+\n",
      "V Made : 100,000+\n",
      "Wattpad 📖 Free Books : 100,000,000+\n",
      "Dictionary - WordWeb : 5,000,000+\n",
      "Guide (for X-MEN) : 100,000+\n",
      "AC Air condition Troubleshoot,Repair,Maintenance : 5,000+\n",
      "AE Bulletins : 1,000+\n",
      "Ae Allah na Dai (Rasa) : 10,000+\n",
      "50000 Free eBooks & Free AudioBooks : 5,000,000+\n",
      "Ag PhD Field Guide : 10,000+\n",
      "Ag PhD Deficiencies : 10,000+\n",
      "Ag PhD Planting Population Calculator : 1,000+\n",
      "Ag PhD Soybean Diseases : 1,000+\n",
      "Fertilizer Removal By Crop : 50,000+\n",
      "A-J Media Vault : 50+\n",
      "Al-Quran (Free) : 10,000,000+\n",
      "Al Quran (Tafsir & by Word) : 500,000+\n",
      "Al Quran Indonesia : 10,000,000+\n",
      "Al'Quran Bahasa Indonesia : 10,000,000+\n",
      "Al Quran Al karim : 1,000,000+\n",
      "Al-Muhaffiz : 50,000+\n",
      "Al Quran : EAlim - Translations & MP3 Offline : 5,000,000+\n",
      "Al-Quran 30 Juz free copies : 500,000+\n",
      "Koran Read &MP3 30 Juz Offline : 1,000,000+\n",
      "Hafizi Quran 15 lines per page : 1,000,000+\n",
      "Quran for Android : 10,000,000+\n",
      "Surah Al-Waqiah : 100,000+\n",
      "Hisnul Al Muslim - Hisn Invocations & Adhkaar : 100,000+\n",
      "Satellite AR : 1,000,000+\n",
      "Audiobooks from Audible : 100,000,000+\n",
      "Kinot & Eichah for Tisha B'Av : 10,000+\n",
      "AW Tozer Devotionals - Daily : 5,000+\n",
      "Tozer Devotional -Series 1 : 1,000+\n",
      "The Pursuit of God : 1,000+\n",
      "AY Sing : 5,000+\n",
      "Ay Hasnain k Nana Milad Naat : 10,000+\n",
      "Ay Mohabbat Teri Khatir Novel : 10,000+\n",
      "Arizona Statutes, ARS (AZ Law) : 1,000+\n",
      "Oxford A-Z of English Usage : 1,000,000+\n",
      "BD Fishpedia : 1,000+\n",
      "BD All Sim Offer : 10,000+\n",
      "Youboox - Livres, BD et magazines : 500,000+\n",
      "B&H Kids AR : 10,000+\n",
      "B y H Niños ES : 5,000+\n",
      "Dictionary.com: Find Definitions for English Words : 10,000,000+\n",
      "English Dictionary - Offline : 10,000,000+\n",
      "Bible KJV : 5,000,000+\n",
      "Borneo Bible, BM Bible : 10,000+\n",
      "MOD Black for BM : 100+\n",
      "BM Box : 1,000+\n",
      "Anime Mod for BM : 100+\n",
      "NOOK: Read eBooks & Magazines : 10,000,000+\n",
      "NOOK Audiobooks : 500,000+\n",
      "NOOK App for NOOK Devices : 500,000+\n",
      "Browsery by Barnes & Noble : 5,000+\n",
      "bp e-store : 1,000+\n",
      "Brilliant Quotes: Life, Love, Family & Motivation : 1,000,000+\n",
      "BR Ambedkar Biography & Quotes : 10,000+\n",
      "BU Alsace : 100+\n",
      "Catholic La Bu Zo Kam : 500+\n",
      "Khrifa Hla Bu (Solfa) : 10+\n",
      "Kristian Hla Bu : 10,000+\n",
      "SA HLA BU : 1,000+\n",
      "Learn SAP BW : 500+\n",
      "Learn SAP BW on HANA : 500+\n",
      "CA Laws 2018 (California Laws and Codes) : 5,000+\n",
      "Bootable Methods(USB-CD-DVD) : 10,000+\n",
      "cloudLibrary : 100,000+\n",
      "SDA Collegiate Quarterly : 500+\n",
      "Sabbath School : 100,000+\n",
      "Cypress College Library : 100+\n",
      "Stats Royale for Clash Royale : 1,000,000+\n",
      "GATE 21 years CS Papers(2011-2018 Solved) : 50+\n",
      "Learn CT Scan Of Head : 5,000+\n",
      "Easy Cv maker 2018 : 10,000+\n",
      "How to Write CV : 100,000+\n",
      "CW Nuclear : 1,000+\n",
      "CY Spray nozzle : 10+\n",
      "BibleRead En Cy Zh Yue : 5+\n",
      "CZ-Help : 5+\n",
      "Modlitební knížka CZ : 500+\n",
      "Guide for DB Xenoverse : 10,000+\n",
      "Guide for DB Xenoverse 2 : 10,000+\n",
      "Guide for IMS DB : 10+\n",
      "DC HSEMA : 5,000+\n",
      "DC Public Library : 1,000+\n",
      "Painting Lulu DC Super Friends : 1,000+\n",
      "Dictionary : 10,000,000+\n",
      "Fix Error Google Playstore : 1,000+\n",
      "D. H. Lawrence Poems FREE : 1,000+\n",
      "Bilingual Dictionary Audio App : 5,000+\n",
      "DM Screen : 10,000+\n",
      "wikiHow: how to do anything : 1,000,000+\n",
      "Dr. Doug's Tips : 1,000+\n",
      "Bible du Semeur-BDS (French) : 50,000+\n",
      "La citadelle du musulman : 50,000+\n",
      "DV 2019 Entry Guide : 10,000+\n",
      "DV 2019 - EDV Photo & Form : 50,000+\n",
      "DV 2018 Winners Guide : 1,000+\n",
      "EB Annual Meetings : 1,000+\n",
      "EC - AP & Telangana : 5,000+\n",
      "TN Patta Citta & EC : 10,000+\n",
      "AP Stamps and Registration : 10,000+\n",
      "CompactiMa EC pH Calibration : 100+\n",
      "EGW Writings 2 : 100,000+\n",
      "EGW Writings : 1,000,000+\n",
      "Bible with EGW Comments : 100,000+\n",
      "My Little Pony AR Guide : 1,000,000+\n",
      "SDA Sabbath School Quarterly : 500,000+\n",
      "Duaa Ek Ibaadat : 5,000+\n",
      "Spanish English Translator : 10,000,000+\n",
      "Dictionary - Merriam-Webster : 10,000,000+\n",
      "JW Library : 10,000,000+\n",
      "Oxford Dictionary of English : Free : 10,000,000+\n",
      "English Hindi Dictionary : 10,000,000+\n",
      "English to Hindi Dictionary : 5,000,000+\n",
      "EP Research Service : 1,000+\n",
      "Hymnes et Louanges : 100,000+\n",
      "EU Charter : 1,000+\n",
      "EU Data Protection : 1,000+\n",
      "EU IP Codes : 100+\n",
      "EW PDF : 5+\n",
      "BakaReader EX : 100,000+\n",
      "EZ Quran : 50,000+\n",
      "FA Part 1 & 2 Past Papers Solved Free – Offline : 5,000+\n",
      "La Fe de Jesus : 1,000+\n",
      "La Fe de Jesús : 500+\n",
      "Le Fe de Jesus : 500+\n",
      "Florida - Pocket Brainbook : 1,000+\n",
      "Florida Statutes (FL Code) : 1,000+\n",
      "English To Shona Dictionary : 10,000+\n",
      "Greek Bible FP (Audio) : 1,000+\n",
      "Golden Dictionary (FR-AR) : 500,000+\n",
      "Fanfic-FR : 5,000+\n",
      "Bulgarian French Dictionary Fr : 10,000+\n",
      "Chemin (fr) : 1,000+\n",
      "The SCP Foundation DB fr nn5n : 1,000+\n"
     ]
    }
   ],
   "source": [
    "for app in android_free:\n",
    "    if app[1] == 'BOOKS_AND_REFERENCE':\n",
    "        print(app[0], ':', app[5]) # App name : Installs"
   ]
  },
  {
   "cell_type": "markdown",
   "id": "056ad8c3",
   "metadata": {},
   "source": [
    "The book and reference genre includes a variety of apps: software for processing and reading ebooks, various collections of libraries, dictionaries, tutorials on programming or languages, etc. It seems there's still a small number of extremely popular apps that skew the average:"
   ]
  },
  {
   "cell_type": "code",
   "execution_count": 122,
   "id": "14d05815",
   "metadata": {},
   "outputs": [
    {
     "name": "stdout",
     "output_type": "stream",
     "text": [
      "Google Play Books : 1,000,000,000+\n",
      "Bible : 100,000,000+\n",
      "Amazon Kindle : 100,000,000+\n",
      "Wattpad 📖 Free Books : 100,000,000+\n",
      "Audiobooks from Audible : 100,000,000+\n"
     ]
    }
   ],
   "source": [
    "for app in android_free:\n",
    "    if app[1] == 'BOOKS_AND_REFERENCE' and (app[5] == '1,000,000,000+'\n",
    "                                            or app[5] == '500,000,000+'\n",
    "                                            or app[5] == '100,000,000+'):\n",
    "        print(app[0], ':', app[5])"
   ]
  },
  {
   "cell_type": "markdown",
   "id": "f35ab780",
   "metadata": {},
   "source": [
    "Removing these apps as they skew our average:"
   ]
  },
  {
   "cell_type": "code",
   "execution_count": 123,
   "id": "82c3d608",
   "metadata": {},
   "outputs": [
    {
     "name": "stdout",
     "output_type": "stream",
     "text": [
      "Wikipedia : 10,000,000+\n",
      "Cool Reader : 10,000,000+\n",
      "Book store : 1,000,000+\n",
      "FBReader: Favorite Book Reader : 10,000,000+\n",
      "Free Books - Spirit Fanfiction and Stories : 1,000,000+\n",
      "AlReader -any text book reader : 5,000,000+\n",
      "FamilySearch Tree : 1,000,000+\n",
      "Cloud of Books : 1,000,000+\n",
      "ReadEra – free ebook reader : 1,000,000+\n",
      "Ebook Reader : 5,000,000+\n",
      "Read books online : 5,000,000+\n",
      "eBoox: book reader fb2 epub zip : 1,000,000+\n",
      "All Maths Formulas : 1,000,000+\n",
      "Ancestry : 5,000,000+\n",
      "HTC Help : 10,000,000+\n",
      "Moon+ Reader : 10,000,000+\n",
      "English-Myanmar Dictionary : 1,000,000+\n",
      "Golden Dictionary (EN-AR) : 1,000,000+\n",
      "All Language Translator Free : 1,000,000+\n",
      "Aldiko Book Reader : 10,000,000+\n",
      "Dictionary - WordWeb : 5,000,000+\n",
      "50000 Free eBooks & Free AudioBooks : 5,000,000+\n",
      "Al-Quran (Free) : 10,000,000+\n",
      "Al Quran Indonesia : 10,000,000+\n",
      "Al'Quran Bahasa Indonesia : 10,000,000+\n",
      "Al Quran Al karim : 1,000,000+\n",
      "Al Quran : EAlim - Translations & MP3 Offline : 5,000,000+\n",
      "Koran Read &MP3 30 Juz Offline : 1,000,000+\n",
      "Hafizi Quran 15 lines per page : 1,000,000+\n",
      "Quran for Android : 10,000,000+\n",
      "Satellite AR : 1,000,000+\n",
      "Oxford A-Z of English Usage : 1,000,000+\n",
      "Dictionary.com: Find Definitions for English Words : 10,000,000+\n",
      "English Dictionary - Offline : 10,000,000+\n",
      "Bible KJV : 5,000,000+\n",
      "NOOK: Read eBooks & Magazines : 10,000,000+\n",
      "Brilliant Quotes: Life, Love, Family & Motivation : 1,000,000+\n",
      "Stats Royale for Clash Royale : 1,000,000+\n",
      "Dictionary : 10,000,000+\n",
      "wikiHow: how to do anything : 1,000,000+\n",
      "EGW Writings : 1,000,000+\n",
      "My Little Pony AR Guide : 1,000,000+\n",
      "Spanish English Translator : 10,000,000+\n",
      "Dictionary - Merriam-Webster : 10,000,000+\n",
      "JW Library : 10,000,000+\n",
      "Oxford Dictionary of English : Free : 10,000,000+\n",
      "English Hindi Dictionary : 10,000,000+\n",
      "English to Hindi Dictionary : 5,000,000+\n"
     ]
    }
   ],
   "source": [
    "for app in android_free:\n",
    "    if app[1] == 'BOOKS_AND_REFERENCE' and (app[5] == '1,000,000+'\n",
    "                                            or app[5] == '5,000,000+'\n",
    "                                            or app[5] == '10,000,000+'\n",
    "                                            or app[5] == '50,000,000+'):\n",
    "        print(app[0], ':', app[5])"
   ]
  },
  {
   "cell_type": "markdown",
   "id": "34fe2920",
   "metadata": {},
   "source": [
    "This niche seems to be dominated by software for processing and reading ebooks, as well as various collections of libraries and dictionaries, so it's probably not a good idea to build similar apps since there'll be some significant competition.\n",
    "\n",
    "**Suggested App Profile for Google Playstore** <br>\n",
    "We also notice there are quite a few apps built around the book Quran, which suggests that building an app around a popular book can be profitable. It seems that taking a popular book (perhaps a more recent book) and turning it into an app could be profitable for both the Google Play and the App Store markets.\n",
    "\n",
    "However, it looks like the market is already full of libraries, so we need to add some special features besides the raw version of the book. This might include daily quotes from the book, an audio version of the book, quizzes on the book, a forum where people can discuss the book, etc."
   ]
  },
  {
   "cell_type": "markdown",
   "id": "93bdd96d",
   "metadata": {},
   "source": [
    "### Conclusion:\n",
    "From the analysis, it can be seen that taking a popular book (perhaps a more recent book) and turning it into an app could be profitable for both the Google Play and the App Store markets.\n",
    "\n",
    "The markets are already full of libraries, so we need to add some special features besides the raw version of the book. This might include daily quotes from the book, an audio version of the book, quizzes on the book, a forum where people can discuss the book, etc."
   ]
  }
 ],
 "metadata": {
  "kernelspec": {
   "display_name": "Python 3",
   "language": "python",
   "name": "python3"
  },
  "language_info": {
   "codemirror_mode": {
    "name": "ipython",
    "version": 3
   },
   "file_extension": ".py",
   "mimetype": "text/x-python",
   "name": "python",
   "nbconvert_exporter": "python",
   "pygments_lexer": "ipython3",
   "version": "3.8.8"
  }
 },
 "nbformat": 4,
 "nbformat_minor": 5
}
